{
 "cells": [
  {
   "cell_type": "code",
   "execution_count": 58,
   "metadata": {},
   "outputs": [
    {
     "name": "stdout",
     "output_type": "stream",
     "text": [
      "something nice\n",
      "\n",
      "else nice\n",
      "a nice\n",
      "didn't I load you up with lot of candy replace\n",
      "\n",
      "\n",
      "\n",
      "easy\n",
      "shut up shut up looking yummy easy but Unity time hear me yelling shut up\n",
      "shut up\n"
     ]
    }
   ],
   "source": [
    "import time\n",
    "import speech_recognition as sr\n",
    "from time import ctime\n",
    "from gtts import gTTS\n",
    "import gtts\n",
    "import os\n",
    "from playsound import playsound\n",
    "import random\n",
    "import pyttsx3\n",
    "\n",
    "def speak(data):\n",
    "    import pyttsx3\n",
    "    converter = pyttsx3.init()\n",
    "    converter.setProperty('rate', 200)\n",
    "    converter.setProperty('volume', 1)\n",
    "    converter.say(data)\n",
    "    converter.runAndWait()\n",
    "\n",
    "def record():\n",
    "    r = sr.Recognizer()\n",
    "    speak(\"What do you wanna know today?\")\n",
    "    try:\n",
    "        with sr.Microphone() as source:\n",
    "            audio = r.listen(source)\n",
    "            data = r.recognize_google(audio)\n",
    "    except:\n",
    "        return \"\"\n",
    "    return data\n",
    "\n",
    "i = 0\n",
    "while(True):\n",
    "    question = record()\n",
    "    print(question)\n",
    "    if(question == \"shut up\"):\n",
    "        break\n",
    "    if(re.search(\"nice$\",question)!=None):\n",
    "        nice= [\"I love the way your eyes smile.\",\"Jesus Loves you!\",\"You are amazing just the way you are.\",\"I love you.\"]\n",
    "        n = random.randint(0,3)\n",
    "        speak(nice[n])\n",
    "        continue\n",
    "    if(question == \"\"):\n",
    "        speak(\"I'm sorry, can you please repeat that?\")\n",
    "        continue\n",
    "    replies = [\"Oh yeah!\", \"I'm gonna leave this up to you.\", \"You deserve it.\",\"I'll kill you.\", \"Girl! Are you drunk?\",\"That would look good on you.\",\n",
    "          \"Don't even think about it.\",\"Dont get me started on that.\",\"Nope, nay, no and noooooooooooooooo\"]\n",
    "    replies_next = [\"Roses are red violets are blue did i stutter when I already answered you!\",\"Din't you hear me the first time.\",\"You are a nice person and you deserve all the love in the world.\"\n",
    "            ,\"Oh yeah!\", \"I'm gonna leave this up to you.\", \"You deserve it.\",\"I'll kill you.\", \"Girl! Are you drunk?\",\"That would look good on you.\",\n",
    "          \"Don't even think about it.\",\"Dont get me started on that.\",\"Nope, nay, no and noooooooooooooooo\"]\n",
    "    if(i == 0):\n",
    "        n = random.randint(0,8)\n",
    "        i += 1\n",
    "        speak(replies[n])\n",
    "    else:\n",
    "        n = random.randint(0,11)\n",
    "        speak(replies_next[n])"
   ]
  },
  {
   "cell_type": "code",
   "execution_count": null,
   "metadata": {},
   "outputs": [],
   "source": []
  }
 ],
 "metadata": {
  "kernelspec": {
   "display_name": "Python 3",
   "language": "python",
   "name": "python3"
  },
  "language_info": {
   "codemirror_mode": {
    "name": "ipython",
    "version": 3
   },
   "file_extension": ".py",
   "mimetype": "text/x-python",
   "name": "python",
   "nbconvert_exporter": "python",
   "pygments_lexer": "ipython3",
   "version": "3.8.5"
  }
 },
 "nbformat": 4,
 "nbformat_minor": 4
}
